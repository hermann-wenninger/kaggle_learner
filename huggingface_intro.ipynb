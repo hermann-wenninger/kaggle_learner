{
 "cells": [
  {
   "cell_type": "code",
   "execution_count": 8,
   "id": "bf273fe0-3b20-4e7d-be53-f9a88c44286d",
   "metadata": {},
   "outputs": [],
   "source": [
    "from transformers import pipeline"
   ]
  },
  {
   "cell_type": "code",
   "execution_count": 9,
   "id": "13b38792-9efb-46e0-ac07-78e75004a91b",
   "metadata": {},
   "outputs": [],
   "source": [
    "import torch.nn.functional as F"
   ]
  },
  {
   "cell_type": "code",
   "execution_count": 10,
   "id": "f6d18d3e-9847-44cc-9279-f86aedfc928a",
   "metadata": {},
   "outputs": [
    {
     "name": "stderr",
     "output_type": "stream",
     "text": [
      "No model was supplied, defaulted to distilbert/distilbert-base-uncased-finetuned-sst-2-english and revision af0f99b (https://huggingface.co/distilbert/distilbert-base-uncased-finetuned-sst-2-english).\n",
      "Using a pipeline without specifying a model name and revision in production is not recommended.\n"
     ]
    }
   ],
   "source": [
    "classifier = pipeline(\"sentiment-analysis\")"
   ]
  },
  {
   "cell_type": "code",
   "execution_count": 14,
   "id": "dc17a8e8-3765-48ee-bd97-3cf8ff5cbbed",
   "metadata": {},
   "outputs": [],
   "source": [
    "results = classifier([\"Hello we are very happy to show you the new transformer Libery\",\"I do not know what to do\", \"Oh fuck, its amazing, we love that shit\"])"
   ]
  },
  {
   "cell_type": "code",
   "execution_count": 15,
   "id": "0e9403e5-507c-4377-a252-c845589244f0",
   "metadata": {},
   "outputs": [
    {
     "name": "stdout",
     "output_type": "stream",
     "text": [
      "{'label': 'POSITIVE', 'score': 0.9998189806938171}\n",
      "{'label': 'NEGATIVE', 'score': 0.9996614456176758}\n",
      "{'label': 'POSITIVE', 'score': 0.9997979998588562}\n"
     ]
    }
   ],
   "source": [
    "for res in results:\n",
    "    print(res)"
   ]
  },
  {
   "cell_type": "code",
   "execution_count": 16,
   "id": "e8a56e7f-d575-4985-a808-a6f98912c96c",
   "metadata": {},
   "outputs": [],
   "source": [
    "model_name = \"distilbert/distilbert-base-uncased-finetuned-sst-2-english\""
   ]
  },
  {
   "cell_type": "code",
   "execution_count": 17,
   "id": "0bdb91c1-c3a6-4418-ab52-ce5a2e27c385",
   "metadata": {},
   "outputs": [],
   "source": [
    "clfier = pipeline(\"sentiment-analysis\", model=model_name)"
   ]
  },
  {
   "cell_type": "code",
   "execution_count": 26,
   "id": "d680dd71-03dd-4e98-a583-66be96ff994a",
   "metadata": {},
   "outputs": [],
   "source": [
    "resi = clfier([\"Hello we are very happy to show you the new transformer Libery\",\"I do not know what to do\", \"Oh fuck, its amazing, we love that shit\",\"how long does that shit go\",\"this pipeline is very old and very long\",\"we love that shit\",\"sometimes i do not know anything\",\"it is great to be american\"])"
   ]
  },
  {
   "cell_type": "code",
   "execution_count": 27,
   "id": "bfe5ff33-f3f5-4a84-84f5-d5a6920da148",
   "metadata": {},
   "outputs": [
    {
     "name": "stdout",
     "output_type": "stream",
     "text": [
      "{'label': 'POSITIVE', 'score': 0.9998189806938171}\n",
      "{'label': 'NEGATIVE', 'score': 0.9996614456176758}\n",
      "{'label': 'POSITIVE', 'score': 0.9997979998588562}\n",
      "{'label': 'NEGATIVE', 'score': 0.9984349608421326}\n",
      "{'label': 'NEGATIVE', 'score': 0.998635470867157}\n",
      "{'label': 'POSITIVE', 'score': 0.9996709823608398}\n",
      "{'label': 'NEGATIVE', 'score': 0.9994361996650696}\n",
      "{'label': 'POSITIVE', 'score': 0.9998772144317627}\n"
     ]
    }
   ],
   "source": [
    "for i in resi:\n",
    "    print(i)"
   ]
  },
  {
   "cell_type": "code",
   "execution_count": 29,
   "id": "ce5dac52-bfef-4ed9-b1d9-25dc4346a894",
   "metadata": {},
   "outputs": [],
   "source": [
    "from transformers import AutoTokenizer, AutoModelForSequenceClassification"
   ]
  },
  {
   "cell_type": "code",
   "execution_count": 30,
   "id": "fc507afc-c8ec-4c02-8547-64d4a7913b86",
   "metadata": {},
   "outputs": [
    {
     "name": "stderr",
     "output_type": "stream",
     "text": [
      "C:\\Users\\josef\\anaconda3\\envs\\huggingfagface\\Lib\\site-packages\\transformers\\tokenization_utils_base.py:1601: FutureWarning: `clean_up_tokenization_spaces` was not set. It will be set to `True` by default. This behavior will be depracted in transformers v4.45, and will be then set to `False` by default. For more details check this issue: https://github.com/huggingface/transformers/issues/31884\n",
      "  warnings.warn(\n"
     ]
    }
   ],
   "source": [
    "model = AutoModelForSequenceClassification.from_pretrained(model_name)\n",
    "tokenizer = AutoTokenizer.from_pretrained(model_name)"
   ]
  },
  {
   "cell_type": "code",
   "execution_count": 31,
   "id": "f0d748f4-0341-4b71-b9ba-9961039eb351",
   "metadata": {},
   "outputs": [],
   "source": [
    "batch = tokenizer(\"Text der getokenized werden soll\",padding=True, truncation=True, max_length=512, return_tensors='pt')"
   ]
  },
  {
   "cell_type": "code",
   "execution_count": 32,
   "id": "babd2681-c286-43b5-a0c3-e657d3bebf95",
   "metadata": {},
   "outputs": [
    {
     "name": "stdout",
     "output_type": "stream",
     "text": [
      "{'input_ids': tensor([[  101,  3793,  4315,  2131, 11045,  3490,  5422,  2057, 18246, 14017,\n",
      "          2140,   102]]), 'attention_mask': tensor([[1, 1, 1, 1, 1, 1, 1, 1, 1, 1, 1, 1]])}\n"
     ]
    }
   ],
   "source": [
    "print(batch)"
   ]
  },
  {
   "cell_type": "code",
   "execution_count": 33,
   "id": "7326328c-fe20-4d69-8697-213f5ca41553",
   "metadata": {},
   "outputs": [
    {
     "name": "stdout",
     "output_type": "stream",
     "text": [
      "Requirement already satisfied: torch in c:\\users\\josef\\anaconda3\\envs\\huggingfagface\\lib\\site-packages (2.4.1)\n",
      "Requirement already satisfied: filelock in c:\\users\\josef\\anaconda3\\envs\\huggingfagface\\lib\\site-packages (from torch) (3.16.1)\n",
      "Requirement already satisfied: typing-extensions>=4.8.0 in c:\\users\\josef\\anaconda3\\envs\\huggingfagface\\lib\\site-packages (from torch) (4.11.0)\n",
      "Requirement already satisfied: sympy in c:\\users\\josef\\anaconda3\\envs\\huggingfagface\\lib\\site-packages (from torch) (1.13.3)\n",
      "Requirement already satisfied: networkx in c:\\users\\josef\\anaconda3\\envs\\huggingfagface\\lib\\site-packages (from torch) (3.3)\n",
      "Requirement already satisfied: jinja2 in c:\\users\\josef\\anaconda3\\envs\\huggingfagface\\lib\\site-packages (from torch) (3.1.4)\n",
      "Requirement already satisfied: fsspec in c:\\users\\josef\\anaconda3\\envs\\huggingfagface\\lib\\site-packages (from torch) (2024.9.0)\n",
      "Requirement already satisfied: setuptools in c:\\users\\josef\\anaconda3\\envs\\huggingfagface\\lib\\site-packages (from torch) (75.1.0)\n",
      "Requirement already satisfied: MarkupSafe>=2.0 in c:\\users\\josef\\anaconda3\\envs\\huggingfagface\\lib\\site-packages (from jinja2->torch) (2.1.3)\n",
      "Requirement already satisfied: mpmath<1.4,>=1.1.0 in c:\\users\\josef\\anaconda3\\envs\\huggingfagface\\lib\\site-packages (from sympy->torch) (1.3.0)\n",
      "Requirement already satisfied: torchvision in c:\\users\\josef\\anaconda3\\envs\\huggingfagface\\lib\\site-packages (0.19.1)\n",
      "Requirement already satisfied: numpy in c:\\users\\josef\\anaconda3\\envs\\huggingfagface\\lib\\site-packages (from torchvision) (1.26.4)\n",
      "Requirement already satisfied: torch==2.4.1 in c:\\users\\josef\\anaconda3\\envs\\huggingfagface\\lib\\site-packages (from torchvision) (2.4.1)\n",
      "Requirement already satisfied: pillow!=8.3.*,>=5.3.0 in c:\\users\\josef\\anaconda3\\envs\\huggingfagface\\lib\\site-packages (from torchvision) (10.4.0)\n",
      "Requirement already satisfied: filelock in c:\\users\\josef\\anaconda3\\envs\\huggingfagface\\lib\\site-packages (from torch==2.4.1->torchvision) (3.16.1)\n",
      "Requirement already satisfied: typing-extensions>=4.8.0 in c:\\users\\josef\\anaconda3\\envs\\huggingfagface\\lib\\site-packages (from torch==2.4.1->torchvision) (4.11.0)\n",
      "Requirement already satisfied: sympy in c:\\users\\josef\\anaconda3\\envs\\huggingfagface\\lib\\site-packages (from torch==2.4.1->torchvision) (1.13.3)\n",
      "Requirement already satisfied: networkx in c:\\users\\josef\\anaconda3\\envs\\huggingfagface\\lib\\site-packages (from torch==2.4.1->torchvision) (3.3)\n",
      "Requirement already satisfied: jinja2 in c:\\users\\josef\\anaconda3\\envs\\huggingfagface\\lib\\site-packages (from torch==2.4.1->torchvision) (3.1.4)\n",
      "Requirement already satisfied: fsspec in c:\\users\\josef\\anaconda3\\envs\\huggingfagface\\lib\\site-packages (from torch==2.4.1->torchvision) (2024.9.0)\n",
      "Requirement already satisfied: setuptools in c:\\users\\josef\\anaconda3\\envs\\huggingfagface\\lib\\site-packages (from torch==2.4.1->torchvision) (75.1.0)\n",
      "Requirement already satisfied: MarkupSafe>=2.0 in c:\\users\\josef\\anaconda3\\envs\\huggingfagface\\lib\\site-packages (from jinja2->torch==2.4.1->torchvision) (2.1.3)\n",
      "Requirement already satisfied: mpmath<1.4,>=1.1.0 in c:\\users\\josef\\anaconda3\\envs\\huggingfagface\\lib\\site-packages (from sympy->torch==2.4.1->torchvision) (1.3.0)\n"
     ]
    }
   ],
   "source": [
    "!pip install torch\n",
    "!pip install torchvision"
   ]
  }
 ],
 "metadata": {
  "kernelspec": {
   "display_name": "Python 3 (ipykernel)",
   "language": "python",
   "name": "python3"
  },
  "language_info": {
   "codemirror_mode": {
    "name": "ipython",
    "version": 3
   },
   "file_extension": ".py",
   "mimetype": "text/x-python",
   "name": "python",
   "nbconvert_exporter": "python",
   "pygments_lexer": "ipython3",
   "version": "3.12.5"
  }
 },
 "nbformat": 4,
 "nbformat_minor": 5
}
