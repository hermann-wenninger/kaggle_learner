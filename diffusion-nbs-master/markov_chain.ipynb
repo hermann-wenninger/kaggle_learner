{
 "cells": [
  {
   "cell_type": "markdown",
   "id": "8de95ece-1d47-49ac-9cf8-e4af2cc8e348",
   "metadata": {},
   "source": [
    "#### markov chain"
   ]
  },
  {
   "cell_type": "code",
   "execution_count": 1,
   "id": "ea12cf13-f565-4454-bbfb-53df2db49428",
   "metadata": {},
   "outputs": [],
   "source": [
    "import numpy as np\n",
    "import random as rm\n"
   ]
  },
  {
   "cell_type": "code",
   "execution_count": 2,
   "id": "77fb763e-af12-4817-8cba-40250f542dfb",
   "metadata": {},
   "outputs": [],
   "source": [
    "# The statespace\n",
    "states = [\"Sleep\",\"Icecream\",\"Run\"]\n",
    "\n",
    "# Possible sequences of events\n",
    "transitionName = [[\"SS\",\"SR\",\"SI\"],[\"RS\",\"RR\",\"RI\"],[\"IS\",\"IR\",\"II\"]]\n",
    "\n",
    "# Probabilities matrix (transition matrix)\n",
    "transitionMatrix = [[0.2,0.6,0.2],[0.1,0.6,0.3],[0.2,0.7,0.1]]"
   ]
  },
  {
   "cell_type": "code",
   "execution_count": 3,
   "id": "dfd8ed54-eb58-4f35-8438-90506c82b276",
   "metadata": {},
   "outputs": [
    {
     "name": "stdout",
     "output_type": "stream",
     "text": [
      "All is gonna be okay, you should move on!! ;)\n"
     ]
    }
   ],
   "source": [
    "if sum(transitionMatrix[0])+sum(transitionMatrix[1])+sum(transitionMatrix[1]) != 3:\n",
    "    print(\"Somewhere, something went wrong. Transition matrix, perhaps?\")\n",
    "else: print(\"All is gonna be okay, you should move on!! ;)\")"
   ]
  },
  {
   "cell_type": "code",
   "execution_count": 7,
   "id": "e384c5a5-ec27-42dd-a275-f3c2cf7426b7",
   "metadata": {},
   "outputs": [
    {
     "name": "stdout",
     "output_type": "stream",
     "text": [
      "Start state: Sleep\n",
      "Possible states: ['Sleep', 'Icecream', 'Run', 'Icecream', 'Run', 'Run', 'Sleep', 'Run', 'Icecream', 'Run', 'Icecream', 'Run', 'Run', 'Run', 'Run', 'Sleep', 'Run', 'Icecream', 'Run', 'Run', 'Run', 'Run', 'Run', 'Run', 'Icecream', 'Sleep', 'Sleep', 'Run', 'Run', 'Icecream', 'Run', 'Run', 'Icecream', 'Run', 'Icecream', 'Run', 'Run', 'Run', 'Run', 'Icecream', 'Run', 'Run', 'Icecream', 'Run', 'Icecream', 'Run', 'Icecream', 'Run', 'Run', 'Run', 'Icecream', 'Run', 'Run', 'Icecream', 'Sleep', 'Run', 'Icecream', 'Run', 'Run', 'Icecream', 'Run', 'Run', 'Icecream', 'Run', 'Run', 'Sleep', 'Icecream', 'Run', 'Run', 'Run', 'Run', 'Run', 'Run', 'Icecream', 'Run', 'Run', 'Run', 'Run', 'Icecream', 'Run', 'Run', 'Run', 'Icecream', 'Run', 'Run', 'Sleep', 'Run', 'Run', 'Run', 'Run', 'Run', 'Run', 'Run', 'Run', 'Run', 'Run', 'Run', 'Run', 'Run', 'Run', 'Icecream', 'Icecream', 'Icecream', 'Run', 'Icecream', 'Run', 'Icecream', 'Icecream', 'Run', 'Run', 'Icecream', 'Run', 'Run', 'Run', 'Run', 'Run', 'Icecream', 'Run', 'Run', 'Icecream', 'Run', 'Run', 'Icecream', 'Run', 'Run', 'Run', 'Run', 'Run', 'Run', 'Run', 'Sleep', 'Icecream', 'Sleep', 'Run', 'Icecream', 'Run', 'Run', 'Run', 'Run', 'Run', 'Run', 'Icecream', 'Run', 'Sleep', 'Sleep', 'Run', 'Sleep', 'Run', 'Run', 'Run', 'Run', 'Sleep', 'Run', 'Run', 'Run', 'Run', 'Run', 'Run', 'Run', 'Icecream', 'Run', 'Run', 'Run', 'Icecream', 'Run', 'Sleep', 'Run', 'Icecream', 'Run', 'Run', 'Icecream', 'Run', 'Run', 'Run', 'Run', 'Sleep', 'Sleep', 'Run', 'Run', 'Icecream', 'Run', 'Icecream', 'Run', 'Sleep', 'Sleep', 'Run', 'Run', 'Icecream', 'Run', 'Icecream', 'Run', 'Run', 'Run', 'Run', 'Icecream', 'Icecream', 'Run', 'Icecream', 'Run', 'Icecream', 'Run', 'Run', 'Run', 'Icecream', 'Sleep', 'Run', 'Sleep', 'Run', 'Run', 'Sleep', 'Run', 'Icecream', 'Run', 'Icecream', 'Run', 'Run', 'Run', 'Icecream', 'Sleep', 'Run', 'Run', 'Run', 'Icecream', 'Run', 'Run', 'Run', 'Run', 'Icecream', 'Run', 'Sleep', 'Run', 'Icecream', 'Run', 'Run', 'Run', 'Run', 'Run', 'Run', 'Icecream', 'Icecream', 'Sleep', 'Run', 'Icecream', 'Run', 'Icecream', 'Sleep', 'Run', 'Run', 'Run', 'Run', 'Icecream', 'Run', 'Run', 'Run', 'Icecream', 'Run', 'Run', 'Icecream', 'Sleep', 'Run', 'Run', 'Run', 'Run', 'Run', 'Run', 'Run', 'Run', 'Run', 'Run', 'Icecream', 'Run', 'Run', 'Run', 'Icecream', 'Sleep', 'Run', 'Run', 'Run', 'Icecream', 'Run', 'Icecream', 'Run', 'Icecream', 'Icecream', 'Run', 'Run', 'Sleep', 'Sleep', 'Run', 'Run', 'Sleep', 'Run', 'Run', 'Run', 'Icecream', 'Sleep', 'Run', 'Icecream', 'Run', 'Run', 'Run', 'Run', 'Run', 'Sleep', 'Run', 'Run', 'Icecream', 'Sleep', 'Icecream', 'Run', 'Sleep', 'Run', 'Icecream', 'Run', 'Run', 'Run', 'Icecream', 'Run', 'Run', 'Run', 'Icecream', 'Run', 'Run', 'Run', 'Icecream', 'Sleep', 'Icecream', 'Run', 'Icecream', 'Run', 'Run', 'Run', 'Icecream', 'Run', 'Run', 'Icecream', 'Run', 'Run', 'Icecream', 'Run', 'Sleep', 'Run', 'Icecream', 'Sleep', 'Run', 'Icecream', 'Run', 'Run', 'Icecream', 'Run', 'Run', 'Icecream', 'Run', 'Run', 'Run', 'Run', 'Run', 'Run', 'Run', 'Run', 'Run', 'Icecream', 'Run', 'Run', 'Run', 'Run', 'Icecream', 'Run', 'Run', 'Icecream', 'Run', 'Icecream', 'Run', 'Icecream', 'Run', 'Run', 'Run', 'Run', 'Run', 'Run', 'Run', 'Icecream', 'Run', 'Run', 'Run', 'Run', 'Run', 'Run', 'Run', 'Run', 'Sleep', 'Run', 'Run', 'Run', 'Run', 'Sleep', 'Run', 'Icecream', 'Icecream', 'Sleep', 'Sleep', 'Icecream', 'Run', 'Run', 'Sleep', 'Run', 'Run', 'Icecream', 'Sleep', 'Run', 'Run', 'Run', 'Run', 'Run', 'Run', 'Icecream', 'Run', 'Icecream', 'Sleep', 'Run', 'Icecream', 'Run', 'Icecream', 'Run', 'Run', 'Run', 'Icecream', 'Run', 'Run', 'Icecream', 'Run', 'Run', 'Icecream', 'Run', 'Icecream', 'Run', 'Icecream', 'Sleep', 'Icecream', 'Run', 'Icecream', 'Run', 'Icecream', 'Run', 'Icecream', 'Run', 'Run', 'Run', 'Sleep', 'Run', 'Icecream', 'Run', 'Run', 'Icecream', 'Run', 'Run', 'Run', 'Icecream', 'Sleep', 'Run', 'Run', 'Run', 'Run', 'Run', 'Run', 'Icecream', 'Run', 'Sleep', 'Run', 'Run', 'Icecream', 'Run', 'Run', 'Run', 'Run', 'Icecream', 'Run', 'Run', 'Run', 'Run', 'Icecream', 'Run', 'Run', 'Icecream', 'Icecream', 'Run', 'Run', 'Run', 'Run', 'Icecream', 'Sleep', 'Run', 'Run', 'Run', 'Run', 'Icecream', 'Run', 'Icecream', 'Run', 'Run', 'Icecream', 'Run', 'Icecream', 'Run', 'Icecream', 'Sleep', 'Icecream', 'Icecream', 'Sleep', 'Run', 'Run', 'Run', 'Icecream', 'Run', 'Run', 'Icecream', 'Run', 'Run', 'Run', 'Icecream', 'Run', 'Run', 'Icecream', 'Icecream', 'Run', 'Icecream', 'Run', 'Run', 'Icecream', 'Run', 'Run', 'Run', 'Run', 'Run', 'Run', 'Run', 'Run', 'Icecream', 'Sleep', 'Run', 'Run', 'Sleep', 'Run', 'Run', 'Run', 'Icecream', 'Run', 'Icecream', 'Run', 'Sleep', 'Run', 'Icecream', 'Run', 'Run', 'Run', 'Run', 'Run', 'Sleep', 'Sleep', 'Sleep', 'Run', 'Run', 'Sleep', 'Run', 'Sleep', 'Run', 'Run', 'Run', 'Icecream', 'Sleep', 'Sleep', 'Run', 'Icecream', 'Run', 'Run', 'Run', 'Icecream', 'Run', 'Run', 'Run', 'Icecream', 'Run', 'Icecream', 'Run', 'Sleep', 'Run', 'Icecream', 'Run', 'Icecream', 'Sleep', 'Sleep', 'Icecream', 'Run', 'Icecream', 'Icecream', 'Run', 'Run', 'Run', 'Run', 'Sleep', 'Run', 'Run', 'Run', 'Run', 'Run', 'Icecream', 'Icecream', 'Run', 'Run', 'Icecream', 'Run', 'Icecream', 'Run', 'Run', 'Icecream', 'Sleep', 'Icecream', 'Run', 'Run', 'Run', 'Icecream', 'Icecream', 'Run', 'Sleep', 'Sleep', 'Sleep', 'Run', 'Run', 'Sleep', 'Sleep', 'Icecream', 'Run', 'Run', 'Icecream', 'Sleep', 'Sleep', 'Run', 'Run', 'Run', 'Run', 'Sleep', 'Run', 'Icecream', 'Sleep', 'Icecream', 'Run', 'Sleep', 'Icecream', 'Run', 'Icecream', 'Run', 'Run', 'Icecream', 'Run', 'Run', 'Run', 'Icecream', 'Sleep', 'Icecream', 'Icecream', 'Run', 'Run', 'Run', 'Run', 'Run', 'Icecream', 'Run', 'Run', 'Run', 'Run', 'Run', 'Run', 'Sleep', 'Run', 'Run', 'Run', 'Sleep', 'Run', 'Icecream', 'Sleep', 'Run', 'Run', 'Run', 'Run', 'Run', 'Run', 'Run', 'Run', 'Run', 'Icecream', 'Run', 'Run', 'Run', 'Run', 'Run', 'Icecream', 'Sleep', 'Run', 'Run', 'Run', 'Run', 'Sleep', 'Run', 'Icecream', 'Run', 'Sleep', 'Run', 'Run', 'Run', 'Run', 'Run', 'Icecream', 'Run', 'Run', 'Run', 'Run', 'Run', 'Run', 'Run', 'Run', 'Sleep', 'Sleep', 'Run', 'Sleep', 'Run', 'Icecream', 'Run', 'Icecream', 'Run', 'Run', 'Run', 'Icecream', 'Run', 'Icecream', 'Run', 'Icecream', 'Run', 'Run', 'Run', 'Run', 'Icecream', 'Run', 'Run', 'Icecream', 'Run', 'Run', 'Run', 'Icecream', 'Sleep', 'Run', 'Run', 'Run', 'Icecream', 'Run', 'Icecream', 'Run', 'Run', 'Run', 'Run', 'Run', 'Icecream', 'Sleep', 'Run', 'Icecream', 'Run', 'Run', 'Run', 'Sleep', 'Run', 'Icecream', 'Sleep', 'Sleep', 'Run', 'Run', 'Icecream', 'Run', 'Run', 'Icecream', 'Run', 'Sleep', 'Sleep', 'Icecream', 'Run', 'Icecream', 'Run', 'Run', 'Icecream', 'Run', 'Run', 'Icecream', 'Run', 'Run', 'Run', 'Icecream', 'Sleep', 'Icecream', 'Run', 'Run', 'Run', 'Run', 'Run', 'Run', 'Run', 'Run', 'Run', 'Run', 'Run', 'Icecream', 'Run', 'Run', 'Sleep', 'Icecream', 'Run', 'Run', 'Icecream', 'Sleep', 'Run', 'Run', 'Run', 'Run', 'Run', 'Run', 'Run', 'Icecream', 'Run', 'Run', 'Run', 'Icecream', 'Run', 'Run', 'Run', 'Run', 'Icecream', 'Run', 'Run', 'Run', 'Run', 'Icecream', 'Run', 'Run', 'Sleep', 'Icecream', 'Icecream', 'Run', 'Icecream', 'Run', 'Run', 'Sleep', 'Icecream', 'Run', 'Run', 'Icecream', 'Run', 'Run', 'Sleep', 'Run', 'Run', 'Run', 'Run', 'Run', 'Icecream', 'Run', 'Sleep', 'Run', 'Run', 'Sleep', 'Run', 'Run', 'Run', 'Run', 'Run', 'Icecream', 'Run', 'Run', 'Run', 'Run', 'Run', 'Run', 'Icecream', 'Run', 'Run', 'Run', 'Run', 'Run', 'Run', 'Run', 'Run', 'Run', 'Run', 'Run', 'Run', 'Run', 'Run', 'Run', 'Run', 'Run', 'Icecream', 'Run', 'Icecream', 'Run', 'Run', 'Run', 'Icecream', 'Run', 'Icecream', 'Run', 'Run', 'Run', 'Run', 'Run', 'Sleep', 'Sleep', 'Sleep', 'Icecream', 'Run', 'Run', 'Sleep', 'Run', 'Run', 'Icecream', 'Run', 'Run', 'Run', 'Icecream', 'Run', 'Icecream', 'Run', 'Icecream', 'Run', 'Run', 'Run', 'Icecream', 'Sleep', 'Run', 'Icecream', 'Run', 'Run', 'Run', 'Run', 'Run', 'Sleep', 'Run', 'Run', 'Icecream', 'Run', 'Run', 'Run', 'Run', 'Icecream', 'Sleep', 'Run', 'Sleep', 'Run', 'Sleep', 'Run', 'Run', 'Run', 'Run', 'Run', 'Run', 'Icecream', 'Run', 'Sleep', 'Run', 'Run', 'Sleep', 'Icecream', 'Run', 'Sleep', 'Icecream', 'Run', 'Icecream', 'Run', 'Run', 'Icecream', 'Sleep', 'Run', 'Run', 'Run', 'Run', 'Run', 'Run', 'Icecream', 'Icecream', 'Run', 'Icecream', 'Sleep', 'Run', 'Run', 'Run', 'Icecream', 'Run', 'Run', 'Run', 'Run', 'Run', 'Icecream', 'Sleep', 'Run', 'Run', 'Icecream', 'Sleep', 'Sleep', 'Icecream', 'Sleep', 'Icecream', 'Run', 'Run', 'Sleep', 'Run', 'Sleep', 'Run', 'Run', 'Run', 'Run', 'Run', 'Run', 'Run', 'Run', 'Run', 'Icecream', 'Run', 'Icecream', 'Sleep', 'Run', 'Run', 'Run', 'Icecream', 'Run', 'Run', 'Icecream', 'Run', 'Icecream', 'Run', 'Run', 'Run', 'Run', 'Run', 'Run', 'Run', 'Icecream', 'Run', 'Icecream', 'Sleep', 'Icecream', 'Run', 'Sleep', 'Sleep', 'Run', 'Icecream', 'Run', 'Icecream', 'Run', 'Run', 'Run', 'Icecream', 'Icecream', 'Icecream', 'Run', 'Run', 'Run', 'Run', 'Run', 'Run', 'Run', 'Run', 'Run', 'Run', 'Icecream', 'Run', 'Run', 'Icecream', 'Sleep', 'Sleep', 'Icecream', 'Run', 'Icecream', 'Run', 'Run', 'Sleep', 'Run', 'Sleep', 'Sleep', 'Sleep', 'Icecream', 'Run', 'Run', 'Run', 'Run', 'Run', 'Run', 'Icecream', 'Run', 'Run', 'Run', 'Run', 'Sleep', 'Sleep', 'Run', 'Run', 'Icecream', 'Run', 'Icecream', 'Sleep', 'Run', 'Icecream', 'Run', 'Icecream', 'Run', 'Run', 'Run', 'Run', 'Icecream']\n",
      "End state after 1112 days: Icecream\n",
      "Probability of the possible sequence of states: 0.0\n"
     ]
    }
   ],
   "source": [
    "# A function that implements the Markov model to forecast the state/mood.\n",
    "def activity_forecast(days):\n",
    "    # Choose the starting state\n",
    "    activityToday = \"Sleep\"\n",
    "    print(\"Start state: \" + activityToday)\n",
    "    # Shall store the sequence of states taken. So, this only has the starting state for now.\n",
    "    activityList = [activityToday]\n",
    "    i = 0\n",
    "    # To calculate the probability of the activityList\n",
    "    prob = 1\n",
    "    while i != days:\n",
    "        if activityToday == \"Sleep\":\n",
    "            change = np.random.choice(transitionName[0],replace=True,p=transitionMatrix[0])\n",
    "            if change == \"SS\":\n",
    "                prob = prob * 0.2\n",
    "                activityList.append(\"Sleep\")\n",
    "                pass\n",
    "            elif change == \"SR\":\n",
    "                prob = prob * 0.6\n",
    "                activityToday = \"Run\"\n",
    "                activityList.append(\"Run\")\n",
    "            else:\n",
    "                prob = prob * 0.2\n",
    "                activityToday = \"Icecream\"\n",
    "                activityList.append(\"Icecream\")\n",
    "        elif activityToday == \"Run\":\n",
    "            change = np.random.choice(transitionName[1],replace=True,p=transitionMatrix[1])\n",
    "            if change == \"RR\":\n",
    "                prob = prob * 0.5\n",
    "                activityList.append(\"Run\")\n",
    "                pass\n",
    "            elif change == \"RS\":\n",
    "                prob = prob * 0.2\n",
    "                activityToday = \"Sleep\"\n",
    "                activityList.append(\"Sleep\")\n",
    "            else:\n",
    "                prob = prob * 0.3\n",
    "                activityToday = \"Icecream\"\n",
    "                activityList.append(\"Icecream\")\n",
    "        elif activityToday == \"Icecream\":\n",
    "            change = np.random.choice(transitionName[2],replace=True,p=transitionMatrix[2])\n",
    "            if change == \"II\":\n",
    "                prob = prob * 0.1\n",
    "                activityList.append(\"Icecream\")\n",
    "                pass\n",
    "            elif change == \"IS\":\n",
    "                prob = prob * 0.2\n",
    "                activityToday = \"Sleep\"\n",
    "                activityList.append(\"Sleep\")\n",
    "            else:\n",
    "                prob = prob * 0.7\n",
    "                activityToday = \"Run\"\n",
    "                activityList.append(\"Run\")\n",
    "        i += 1  \n",
    "    print(\"Possible states: \" + str(activityList))\n",
    "    print(\"End state after \"+ str(days) + \" days: \" + activityToday)\n",
    "    print(\"Probability of the possible sequence of states: \" + str(prob))\n",
    "\n",
    "# Function that forecasts the possible state for the next 2 days\n",
    "activity_forecast(1112)"
   ]
  },
  {
   "cell_type": "code",
   "execution_count": null,
   "id": "112b58b4-51c6-43f4-bb64-5f59280e4e3f",
   "metadata": {},
   "outputs": [],
   "source": []
  }
 ],
 "metadata": {
  "kernelspec": {
   "display_name": "Python 3 (ipykernel)",
   "language": "python",
   "name": "python3"
  },
  "language_info": {
   "codemirror_mode": {
    "name": "ipython",
    "version": 3
   },
   "file_extension": ".py",
   "mimetype": "text/x-python",
   "name": "python",
   "nbconvert_exporter": "python",
   "pygments_lexer": "ipython3",
   "version": "3.12.5"
  }
 },
 "nbformat": 4,
 "nbformat_minor": 5
}
