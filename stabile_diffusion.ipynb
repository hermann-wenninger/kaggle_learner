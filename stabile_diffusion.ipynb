{
 "cells": [
  {
   "cell_type": "markdown",
   "id": "d2b889c8-c409-45e9-a22a-4c09d9ab3a33",
   "metadata": {},
   "source": [
    "### Kontrastives Lernen, Transformer-Modelle, Auto-Encoder, CLIP-Einbettungen, latente Variablen, U-Nets, Resnets, stabile diffusion"
   ]
  },
  {
   "cell_type": "markdown",
   "id": "6c3ecb6c-f883-481a-8f26-996380bb1dc9",
   "metadata": {},
   "source": [
    "#### Denoising Diffusion Probabilistic Models (DDPM) und Denoising Diffusion Implicit Models (DDIM)"
   ]
  },
  {
   "cell_type": "code",
   "execution_count": 4,
   "id": "ee1a76e0-d49d-4be7-b2e9-39f25cdc921c",
   "metadata": {},
   "outputs": [
    {
     "name": "stdout",
     "output_type": "stream",
     "text": [
      "Requirement already satisfied: diffusers in c:\\users\\josef\\anaconda3\\envs\\huggingfagface\\lib\\site-packages (0.30.3)\n",
      "Requirement already satisfied: accelerate in c:\\users\\josef\\anaconda3\\envs\\huggingfagface\\lib\\site-packages (0.34.2)\n",
      "Requirement already satisfied: transformers in c:\\users\\josef\\anaconda3\\envs\\huggingfagface\\lib\\site-packages (4.44.2)\n",
      "Collecting transformers\n",
      "  Downloading transformers-4.45.1-py3-none-any.whl.metadata (44 kB)\n",
      "Requirement already satisfied: importlib-metadata in c:\\users\\josef\\anaconda3\\envs\\huggingfagface\\lib\\site-packages (from diffusers) (8.5.0)\n",
      "Requirement already satisfied: filelock in c:\\users\\josef\\anaconda3\\envs\\huggingfagface\\lib\\site-packages (from diffusers) (3.16.1)\n",
      "Requirement already satisfied: huggingface-hub>=0.23.2 in c:\\users\\josef\\anaconda3\\envs\\huggingfagface\\lib\\site-packages (from diffusers) (0.25.1)\n",
      "Requirement already satisfied: numpy in c:\\users\\josef\\anaconda3\\envs\\huggingfagface\\lib\\site-packages (from diffusers) (1.26.4)\n",
      "Requirement already satisfied: regex!=2019.12.17 in c:\\users\\josef\\anaconda3\\envs\\huggingfagface\\lib\\site-packages (from diffusers) (2024.9.11)\n",
      "Requirement already satisfied: requests in c:\\users\\josef\\anaconda3\\envs\\huggingfagface\\lib\\site-packages (from diffusers) (2.32.3)\n",
      "Requirement already satisfied: safetensors>=0.3.1 in c:\\users\\josef\\anaconda3\\envs\\huggingfagface\\lib\\site-packages (from diffusers) (0.4.5)\n",
      "Requirement already satisfied: Pillow in c:\\users\\josef\\anaconda3\\envs\\huggingfagface\\lib\\site-packages (from diffusers) (10.4.0)\n",
      "Requirement already satisfied: packaging>=20.0 in c:\\users\\josef\\anaconda3\\envs\\huggingfagface\\lib\\site-packages (from accelerate) (24.1)\n",
      "Requirement already satisfied: psutil in c:\\users\\josef\\anaconda3\\envs\\huggingfagface\\lib\\site-packages (from accelerate) (5.9.0)\n",
      "Requirement already satisfied: pyyaml in c:\\users\\josef\\anaconda3\\envs\\huggingfagface\\lib\\site-packages (from accelerate) (6.0.1)\n",
      "Requirement already satisfied: torch>=1.10.0 in c:\\users\\josef\\anaconda3\\envs\\huggingfagface\\lib\\site-packages (from accelerate) (2.4.1)\n",
      "Collecting tokenizers<0.21,>=0.20 (from transformers)\n",
      "  Downloading tokenizers-0.20.0-cp312-none-win_amd64.whl.metadata (6.9 kB)\n",
      "Requirement already satisfied: tqdm>=4.27 in c:\\users\\josef\\anaconda3\\envs\\huggingfagface\\lib\\site-packages (from transformers) (4.66.5)\n",
      "Requirement already satisfied: fsspec>=2023.5.0 in c:\\users\\josef\\anaconda3\\envs\\huggingfagface\\lib\\site-packages (from huggingface-hub>=0.23.2->diffusers) (2024.9.0)\n",
      "Requirement already satisfied: typing-extensions>=3.7.4.3 in c:\\users\\josef\\anaconda3\\envs\\huggingfagface\\lib\\site-packages (from huggingface-hub>=0.23.2->diffusers) (4.11.0)\n",
      "Requirement already satisfied: sympy in c:\\users\\josef\\anaconda3\\envs\\huggingfagface\\lib\\site-packages (from torch>=1.10.0->accelerate) (1.13.3)\n",
      "Requirement already satisfied: networkx in c:\\users\\josef\\anaconda3\\envs\\huggingfagface\\lib\\site-packages (from torch>=1.10.0->accelerate) (3.3)\n",
      "Requirement already satisfied: jinja2 in c:\\users\\josef\\anaconda3\\envs\\huggingfagface\\lib\\site-packages (from torch>=1.10.0->accelerate) (3.1.4)\n",
      "Requirement already satisfied: setuptools in c:\\users\\josef\\anaconda3\\envs\\huggingfagface\\lib\\site-packages (from torch>=1.10.0->accelerate) (75.1.0)\n",
      "Requirement already satisfied: colorama in c:\\users\\josef\\anaconda3\\envs\\huggingfagface\\lib\\site-packages (from tqdm>=4.27->transformers) (0.4.6)\n",
      "Requirement already satisfied: zipp>=3.20 in c:\\users\\josef\\anaconda3\\envs\\huggingfagface\\lib\\site-packages (from importlib-metadata->diffusers) (3.20.2)\n",
      "Requirement already satisfied: charset-normalizer<4,>=2 in c:\\users\\josef\\anaconda3\\envs\\huggingfagface\\lib\\site-packages (from requests->diffusers) (3.3.2)\n",
      "Requirement already satisfied: idna<4,>=2.5 in c:\\users\\josef\\anaconda3\\envs\\huggingfagface\\lib\\site-packages (from requests->diffusers) (3.10)\n",
      "Requirement already satisfied: urllib3<3,>=1.21.1 in c:\\users\\josef\\anaconda3\\envs\\huggingfagface\\lib\\site-packages (from requests->diffusers) (2.2.2)\n",
      "Requirement already satisfied: certifi>=2017.4.17 in c:\\users\\josef\\anaconda3\\envs\\huggingfagface\\lib\\site-packages (from requests->diffusers) (2024.8.30)\n",
      "Requirement already satisfied: MarkupSafe>=2.0 in c:\\users\\josef\\anaconda3\\envs\\huggingfagface\\lib\\site-packages (from jinja2->torch>=1.10.0->accelerate) (2.1.3)\n",
      "Requirement already satisfied: mpmath<1.4,>=1.1.0 in c:\\users\\josef\\anaconda3\\envs\\huggingfagface\\lib\\site-packages (from sympy->torch>=1.10.0->accelerate) (1.3.0)\n",
      "Downloading transformers-4.45.1-py3-none-any.whl (9.9 MB)\n",
      "   ---------------------------------------- 0.0/9.9 MB ? eta -:--:--\n",
      "   ---------------------------------------- 0.0/9.9 MB ? eta -:--:--\n",
      "   -- ------------------------------------- 0.5/9.9 MB 1.5 MB/s eta 0:00:07\n",
      "   --- ------------------------------------ 0.8/9.9 MB 1.5 MB/s eta 0:00:06\n",
      "   ----- ---------------------------------- 1.3/9.9 MB 1.7 MB/s eta 0:00:05\n",
      "   ------ --------------------------------- 1.6/9.9 MB 1.7 MB/s eta 0:00:05\n",
      "   -------- ------------------------------- 2.1/9.9 MB 1.8 MB/s eta 0:00:05\n",
      "   ---------- ----------------------------- 2.6/9.9 MB 1.9 MB/s eta 0:00:04\n",
      "   ------------ --------------------------- 3.1/9.9 MB 2.0 MB/s eta 0:00:04\n",
      "   ------------- -------------------------- 3.4/9.9 MB 2.0 MB/s eta 0:00:04\n",
      "   -------------- ------------------------- 3.7/9.9 MB 2.0 MB/s eta 0:00:04\n",
      "   --------------- ------------------------ 3.9/9.9 MB 1.9 MB/s eta 0:00:04\n",
      "   ------------------ --------------------- 4.5/9.9 MB 1.9 MB/s eta 0:00:03\n",
      "   -------------------- ------------------- 5.0/9.9 MB 1.9 MB/s eta 0:00:03\n",
      "   --------------------- ------------------ 5.2/9.9 MB 1.9 MB/s eta 0:00:03\n",
      "   ---------------------- ----------------- 5.5/9.9 MB 1.9 MB/s eta 0:00:03\n",
      "   ------------------------ --------------- 6.0/9.9 MB 1.9 MB/s eta 0:00:03\n",
      "   -------------------------- ------------- 6.6/9.9 MB 1.9 MB/s eta 0:00:02\n",
      "   --------------------------- ------------ 6.8/9.9 MB 1.9 MB/s eta 0:00:02\n",
      "   ---------------------------- ----------- 7.1/9.9 MB 1.9 MB/s eta 0:00:02\n",
      "   ------------------------------ --------- 7.6/9.9 MB 1.9 MB/s eta 0:00:02\n",
      "   -------------------------------- ------- 8.1/9.9 MB 1.9 MB/s eta 0:00:01\n",
      "   ----------------------------------- ---- 8.7/9.9 MB 1.9 MB/s eta 0:00:01\n",
      "   ------------------------------------- -- 9.2/9.9 MB 1.9 MB/s eta 0:00:01\n",
      "   ---------------------------------------  9.7/9.9 MB 2.0 MB/s eta 0:00:01\n",
      "   ---------------------------------------- 9.9/9.9 MB 1.9 MB/s eta 0:00:00\n",
      "Downloading tokenizers-0.20.0-cp312-none-win_amd64.whl (2.3 MB)\n",
      "   ---------------------------------------- 0.0/2.3 MB ? eta -:--:--\n",
      "   ---- ----------------------------------- 0.3/2.3 MB ? eta -:--:--\n",
      "   ------------- -------------------------- 0.8/2.3 MB 2.1 MB/s eta 0:00:01\n",
      "   ---------------------- ----------------- 1.3/2.3 MB 2.5 MB/s eta 0:00:01\n",
      "   ------------------------------- -------- 1.8/2.3 MB 2.5 MB/s eta 0:00:01\n",
      "   ---------------------------------------- 2.3/2.3 MB 2.6 MB/s eta 0:00:00\n",
      "Installing collected packages: tokenizers, transformers\n",
      "  Attempting uninstall: tokenizers\n",
      "    Found existing installation: tokenizers 0.19.1\n",
      "    Uninstalling tokenizers-0.19.1:\n",
      "      Successfully uninstalled tokenizers-0.19.1\n",
      "  Attempting uninstall: transformers\n",
      "    Found existing installation: transformers 4.44.2\n",
      "    Uninstalling transformers-4.44.2:\n",
      "      Successfully uninstalled transformers-4.44.2\n",
      "Successfully installed tokenizers-0.20.0 transformers-4.45.1\n"
     ]
    }
   ],
   "source": [
    "!pip install --upgrade diffusers accelerate transformers"
   ]
  }
 ],
 "metadata": {
  "kernelspec": {
   "display_name": "Python 3 (ipykernel)",
   "language": "python",
   "name": "python3"
  },
  "language_info": {
   "codemirror_mode": {
    "name": "ipython",
    "version": 3
   },
   "file_extension": ".py",
   "mimetype": "text/x-python",
   "name": "python",
   "nbconvert_exporter": "python",
   "pygments_lexer": "ipython3",
   "version": "3.12.5"
  }
 },
 "nbformat": 4,
 "nbformat_minor": 5
}
